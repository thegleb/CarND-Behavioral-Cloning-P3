{
 "cells": [
  {
   "cell_type": "markdown",
   "metadata": {},
   "source": [
    "### Some imports"
   ]
  },
  {
   "cell_type": "code",
   "execution_count": 2,
   "metadata": {},
   "outputs": [],
   "source": [
    "import plaidml.keras\n",
    "from keras.callbacks import ModelCheckpoint\n",
    "\n",
    "plaidml.keras.install_backend()\n",
    "\n",
    "from keras.models import Sequential\n",
    "from keras.layers import Cropping2D, Flatten, Dense, Dropout, Lambda\n",
    "from keras.layers.convolutional import Conv2D\n",
    "\n",
    "import matplotlib.pyplot as plt\n",
    "import numpy as np\n",
    "import csv\n",
    "import cv2\n",
    "import random"
   ]
  },
  {
   "cell_type": "markdown",
   "metadata": {},
   "source": [
    "### Load training data\n",
    "\n",
    "Split data into training set and validation set at random"
   ]
  },
  {
   "cell_type": "code",
   "execution_count": 3,
   "metadata": {},
   "outputs": [
    {
     "name": "stdout",
     "output_type": "stream",
     "text": [
      "Read 19509 lines\n",
      "Training data size: 88019\n",
      "Validation data size: 29035\n"
     ]
    }
   ],
   "source": [
    "\n",
    "# Training data was generated for different scenarios for each track;\n",
    "# to make it easier to organize or re-record data, we split up data across multiple files\n",
    "training_data_files = [\n",
    "    './training-data-new/track-1-forwards/driving_log.csv',\n",
    "    './training-data-new/track-1-reverse/driving_log.csv',\n",
    "    './training-data-new/track-1-recovery/driving_log.csv',\n",
    "    './training-data-new/track-1-curves/driving_log.csv',\n",
    "    './training-data-new/track-2-forwards/driving_log.csv',\n",
    "    './training-data-new/track-2-reverse/driving_log.csv',\n",
    "    './training-data-new/track-2-recovery/driving_log.csv',\n",
    "    './training-data-new/track-2-curves/driving_log.csv',\n",
    "]\n",
    "\n",
    "lines = []\n",
    "# Iterate through each file and combine all the training data lines together\n",
    "for i in range(len(training_data_files)):\n",
    "    with open(training_data_files[i]) as csvfile:\n",
    "        reader = csv.reader(csvfile)\n",
    "        for line in reader:\n",
    "            lines.append(line)\n",
    "\n",
    "# Output summary of what was just read into memory, for sanity check purposes\n",
    "print('Read {} lines'.format(len(lines)))\n",
    "\n",
    "# We add/subtract correction_factor from the steering angle measurement to generate new measurements\n",
    "# for the side camera images\n",
    "correction_factor = 0.2\n",
    "\n",
    "# percentage of images we want to use for validation\n",
    "validation_fraction = 0.25\n",
    "\n",
    "def validation_or_training(training, validation, data):\n",
    "    \"\"\"\n",
    "    Training, validation, and data are all tuples; at random we put data into the training or validation set\n",
    "    \"\"\"\n",
    "    is_validation = True if random.uniform(0, 1.0) < validation_fraction else False\n",
    "    if is_validation:\n",
    "        validation[0].append(data[0])\n",
    "        validation[1].append(data[1])\n",
    "    else:\n",
    "        training[0].append(data[0])\n",
    "        training[1].append(data[1])\n",
    "\n",
    "# Vars to collect the original + augumented images and measurements\n",
    "X_train, y_train = [], []\n",
    "X_valid, y_valid = [], []\n",
    "for line in lines:\n",
    "    # Image 1 = center, image 2 = left camera, image 3 = right camera\n",
    "    # From 3 images (center, left, right) we create 6 images (original/flipped versions for each)\n",
    "    measurement = float(line[3])\n",
    "\n",
    "    # Center\n",
    "    center_image = plt.imread(line[0])\n",
    "    validation_or_training((X_train, y_train), (X_valid, y_valid), (center_image, measurement))\n",
    "    validation_or_training((X_train, y_train), (X_valid, y_valid), (cv2.flip(center_image, 1), -measurement))\n",
    "\n",
    "    # Left\n",
    "    left_image = plt.imread(line[1])\n",
    "    validation_or_training((X_train, y_train), (X_valid, y_valid), (left_image, measurement + correction_factor))\n",
    "    validation_or_training((X_train, y_train), (X_valid, y_valid), (cv2.flip(left_image, 1), -(measurement + correction_factor)))\n",
    "\n",
    "    # Right\n",
    "    right_image = plt.imread(line[2])\n",
    "    validation_or_training((X_train, y_train), (X_valid, y_valid), (right_image, measurement - correction_factor))\n",
    "    validation_or_training((X_train, y_train), (X_valid, y_valid), (cv2.flip(right_image, 1), -(measurement - correction_factor)))\n",
    "\n",
    "print('Training data size: {}'.format(len(X_train)))\n",
    "print('Validation data size: {}'.format(len(X_valid)))\n"
   ]
  },
  {
   "cell_type": "markdown",
   "metadata": {},
   "source": [
    "### Turn training/validation data into numpy arrays"
   ]
  },
  {
   "cell_type": "code",
   "execution_count": 21,
   "metadata": {},
   "outputs": [
    {
     "name": "stdout",
     "output_type": "stream",
     "text": [
      "Done\n"
     ]
    }
   ],
   "source": [
    "# The images are the source data, the steering measurements are the labels to train against\n",
    "X_train = np.array(X_train)\n",
    "y_train = np.array(y_train)\n",
    "\n",
    "X_valid = np.array(X_valid)\n",
    "y_valid = np.array(y_valid)\n",
    "\n",
    "print('Done')"
   ]
  },
  {
   "cell_type": "markdown",
   "metadata": {},
   "source": [
    "### Define and compile model\n",
    "\n",
    "Basically the nVidia network from https://devblogs.nvidia.com/deep-learning-self-driving-cars/ with dropout in the convolutional layers"
   ]
  },
  {
   "cell_type": "code",
   "execution_count": 32,
   "metadata": {
    "scrolled": false
   },
   "outputs": [],
   "source": [
    "model = Sequential([\n",
    "    Lambda(lambda x: x / 255.0 - 0.5, output_shape=(160, 320, 3)),\n",
    "    Cropping2D(cropping=((60, 25), (0, 0))),\n",
    "    Conv2D(filters=24, kernel_size=(5, 5), activation='relu', strides=(2, 2)),\n",
    "    Dropout(0.3),\n",
    "    Conv2D(filters=36, kernel_size=(5, 5), activation='relu', strides=(2, 2)),\n",
    "    Dropout(0.3),\n",
    "    Conv2D(filters=48, kernel_size=(5, 5), activation='relu', strides=(2, 2)),\n",
    "    Dropout(0.3),\n",
    "    Conv2D(filters=64, kernel_size=(3, 3), activation='relu'),\n",
    "    Dropout(0.3),\n",
    "    Conv2D(filters=64, kernel_size=(3, 3), activation='relu'),\n",
    "    Flatten(),\n",
    "    Dense(100),\n",
    "    Dense(50),\n",
    "    Dense(10),\n",
    "    Dense(1)\n",
    "])\n",
    "\n",
    "model.compile(loss='mse', optimizer='adam', metrics=['accuracy'])\n",
    "\n",
    "# add a checkpoint to save weights when the validation loss is at its lowest\n",
    "checkpointer = ModelCheckpoint(\n",
    "    filepath='best-weights-shuffled-more-epochs.h5',\n",
    "    monitor='val_loss',\n",
    "    verbose=1,\n",
    "    save_best_only=True\n",
    ")\n"
   ]
  },
  {
   "cell_type": "markdown",
   "metadata": {},
   "source": [
    "### Train model"
   ]
  },
  {
   "cell_type": "code",
   "execution_count": 33,
   "metadata": {
    "scrolled": false
   },
   "outputs": [
    {
     "name": "stdout",
     "output_type": "stream",
     "text": [
      "Train on 88019 samples, validate on 29035 samples\n",
      "Epoch 1/10\n",
      "88019/88019 [==============================] - 1404s 16ms/step - loss: 0.0625 - acc: 0.0128 - val_loss: 0.0529 - val_acc: 0.0128\n",
      "\n",
      "Epoch 00001: val_loss improved from inf to 0.05287, saving model to best-weights-shuffled-more-epochs.h5\n",
      "Epoch 2/10\n",
      "88019/88019 [==============================] - 1383s 16ms/step - loss: 0.0526 - acc: 0.0139 - val_loss: 0.0497 - val_acc: 0.0130\n",
      "\n",
      "Epoch 00002: val_loss improved from 0.05287 to 0.04973, saving model to best-weights-shuffled-more-epochs.h5\n",
      "Epoch 3/10\n",
      "88019/88019 [==============================] - 1395s 16ms/step - loss: 0.0490 - acc: 0.0140 - val_loss: 0.0474 - val_acc: 0.0140\n",
      "\n",
      "Epoch 00003: val_loss improved from 0.04973 to 0.04739, saving model to best-weights-shuffled-more-epochs.h5\n",
      "Epoch 4/10\n",
      "88019/88019 [==============================] - 1347s 15ms/step - loss: 0.0461 - acc: 0.0147 - val_loss: 0.0430 - val_acc: 0.0136\n",
      "\n",
      "Epoch 00004: val_loss improved from 0.04739 to 0.04300, saving model to best-weights-shuffled-more-epochs.h5\n",
      "Epoch 5/10\n",
      "88019/88019 [==============================] - 1367s 16ms/step - loss: 0.0435 - acc: 0.0152 - val_loss: 0.0414 - val_acc: 0.0145\n",
      "\n",
      "Epoch 00005: val_loss improved from 0.04300 to 0.04135, saving model to best-weights-shuffled-more-epochs.h5\n",
      "Epoch 6/10\n",
      "88019/88019 [==============================] - 1424s 16ms/step - loss: 0.0416 - acc: 0.0153 - val_loss: 0.0406 - val_acc: 0.0143\n",
      "\n",
      "Epoch 00006: val_loss improved from 0.04135 to 0.04062, saving model to best-weights-shuffled-more-epochs.h5\n",
      "Epoch 7/10\n",
      "88019/88019 [==============================] - 1340s 15ms/step - loss: 0.0402 - acc: 0.0154 - val_loss: 0.0379 - val_acc: 0.0147\n",
      "\n",
      "Epoch 00007: val_loss improved from 0.04062 to 0.03790, saving model to best-weights-shuffled-more-epochs.h5\n",
      "Epoch 8/10\n",
      "88019/88019 [==============================] - 1313s 15ms/step - loss: 0.0388 - acc: 0.0159 - val_loss: 0.0361 - val_acc: 0.0145\n",
      "\n",
      "Epoch 00008: val_loss improved from 0.03790 to 0.03615, saving model to best-weights-shuffled-more-epochs.h5\n",
      "Epoch 9/10\n",
      "88019/88019 [==============================] - 1354s 15ms/step - loss: 0.0376 - acc: 0.0160 - val_loss: 0.0376 - val_acc: 0.0149\n",
      "\n",
      "Epoch 00009: val_loss did not improve from 0.03615\n",
      "Epoch 10/10\n",
      "88019/88019 [==============================] - 1310s 15ms/step - loss: 0.0367 - acc: 0.0160 - val_loss: 0.0353 - val_acc: 0.0153\n",
      "\n",
      "Epoch 00010: val_loss improved from 0.03615 to 0.03534, saving model to best-weights-shuffled-more-epochs.h5\n"
     ]
    }
   ],
   "source": [
    "history_object = model.fit(X_train, y_train, validation_data=(X_valid, y_valid), shuffle=True, epochs=10, batch_size=64, callbacks=[checkpointer])\n",
    "model.save('model-retrained-shuffled-more-epochs.h5')"
   ]
  },
  {
   "cell_type": "markdown",
   "metadata": {},
   "source": [
    "### Plot the training and validation loss for each epoch"
   ]
  },
  {
   "cell_type": "code",
   "execution_count": 34,
   "metadata": {},
   "outputs": [
    {
     "data": {
      "image/png": "[encoded data removed]",
      "text/plain": [
       "<Figure size 432x288 with 1 Axes>"
      ]
     },
     "metadata": {
      "needs_background": "light"
     },
     "output_type": "display_data"
    }
   ],
   "source": [
    "plt.plot(history_object.history['loss'])\n",
    "plt.plot(history_object.history['val_loss'])\n",
    "plt.title('model mean squared error loss')\n",
    "plt.ylabel('mean squared error loss')\n",
    "plt.xlabel('epoch')\n",
    "plt.legend(['training set', 'validation set'], loc='upper right')\n",
    "plt.show()"
   ]
  }
 ],
 "metadata": {
  "kernelspec": {
   "display_name": "Python 3",
   "language": "python",
   "name": "python3"
  },
  "language_info": {
   "codemirror_mode": {
    "name": "ipython",
    "version": 3
   },
   "file_extension": ".py",
   "mimetype": "text/x-python",
   "name": "python",
   "nbconvert_exporter": "python",
   "pygments_lexer": "ipython3",
   "version": "3.5.2"
  },
  "widgets": {
   "state": {},
   "version": "1.1.2"
  }
 },
 "nbformat": 4,
 "nbformat_minor": 2
}
